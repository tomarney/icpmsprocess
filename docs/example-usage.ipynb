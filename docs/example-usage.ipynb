{
 "cells": [
  {
   "cell_type": "markdown",
   "metadata": {},
   "source": [
    "## Generate example data\n"
   ]
  },
  {
   "cell_type": "code",
   "execution_count": 1,
   "metadata": {},
   "outputs": [],
   "source": [
    "from docs_helpers import generate_run_data\n",
    "\n",
    "generate_run_data(run_len=50)"
   ]
  },
  {
   "cell_type": "markdown",
   "metadata": {},
   "source": [
    "## Process data with icpmsprocess\n"
   ]
  },
  {
   "cell_type": "markdown",
   "metadata": {},
   "source": [
    "Add the package to the system path so it works in this notebook\n"
   ]
  },
  {
   "cell_type": "code",
   "execution_count": 2,
   "metadata": {},
   "outputs": [],
   "source": [
    "import sys\n",
    "import os\n",
    "\n",
    "parent_dir = os.path.abspath(os.path.join(os.getcwd(), os.pardir))\n",
    "sys.path.append(parent_dir)"
   ]
  },
  {
   "cell_type": "markdown",
   "metadata": {},
   "source": [
    "Import the `load_samples` helper function, the settings and processor objects, and the pre-defined Pb isotope system object and NIST SRM 610 reference material properties\n"
   ]
  },
  {
   "cell_type": "code",
   "execution_count": 3,
   "metadata": {},
   "outputs": [],
   "source": [
    "from icpmsprocess.utils import load_samples\n",
    "from icpmsprocess import ProcessingSettings, DataProcessor\n",
    "from icpmsprocess.lib import Pb_Pb, NIST610"
   ]
  },
  {
   "cell_type": "markdown",
   "metadata": {},
   "source": [
    "Tweak these values to make sense for the data you've collected:\n"
   ]
  },
  {
   "cell_type": "code",
   "execution_count": 4,
   "metadata": {},
   "outputs": [],
   "source": [
    "settings = ProcessingSettings(\n",
    "    intensity_metric=\"208Pb\",\n",
    "    min_signal_intensity=1,\n",
    "    low_cycles_warning_frac=0.1,\n",
    "    max_blank_intensity=5e-4,\n",
    "    blank_cycles=28,\n",
    "    signal_cycles=(31, 58),\n",
    ")"
   ]
  },
  {
   "cell_type": "markdown",
   "metadata": {},
   "source": [
    "Load all the data files in the `data_dir` directory, map them to the sample metadata given in the sample map, and define which isotope system was being measured (in this example, we use the pre-defined Pb-Pb system that we imported earlier)\n"
   ]
  },
  {
   "cell_type": "code",
   "execution_count": 5,
   "metadata": {},
   "outputs": [],
   "source": [
    "all_samples = load_samples(\n",
    "    data_dir=\"example-data\",\n",
    "    sample_map_path=\"example-data/sample_map.csv\",\n",
    "    isotope_system=Pb_Pb,\n",
    ")"
   ]
  },
  {
   "cell_type": "markdown",
   "metadata": {},
   "source": [
    "Take the sample list that `load_samples` gave us, and process them, using the `NIST610` reference material we imported earlier\n"
   ]
  },
  {
   "cell_type": "code",
   "execution_count": 9,
   "metadata": {},
   "outputs": [
    {
     "data": {
      "text/html": [
       "<div>\n",
       "<style scoped>\n",
       "    .dataframe tbody tr th:only-of-type {\n",
       "        vertical-align: middle;\n",
       "    }\n",
       "\n",
       "    .dataframe tbody tr th {\n",
       "        vertical-align: top;\n",
       "    }\n",
       "\n",
       "    .dataframe thead th {\n",
       "        text-align: right;\n",
       "    }\n",
       "</style>\n",
       "<table border=\"1\" class=\"dataframe\">\n",
       "  <thead>\n",
       "    <tr style=\"text-align: right;\">\n",
       "      <th></th>\n",
       "      <th>name</th>\n",
       "      <th>type</th>\n",
       "      <th>206Pb_204Pb</th>\n",
       "      <th>206Pb_204Pb_err</th>\n",
       "      <th>207Pb_204Pb</th>\n",
       "      <th>207Pb_204Pb_err</th>\n",
       "      <th>208Pb_204Pb</th>\n",
       "      <th>208Pb_204Pb_err</th>\n",
       "      <th>207Pb_206Pb</th>\n",
       "      <th>207Pb_206Pb_err</th>\n",
       "      <th>208Pb_206Pb</th>\n",
       "      <th>208Pb_206Pb_err</th>\n",
       "      <th>206Pb_207Pb</th>\n",
       "      <th>206Pb_207Pb_err</th>\n",
       "      <th>208Pb_207Pb</th>\n",
       "      <th>208Pb_207Pb_err</th>\n",
       "    </tr>\n",
       "  </thead>\n",
       "  <tbody>\n",
       "    <tr>\n",
       "      <th>14</th>\n",
       "      <td>my_smpl_014</td>\n",
       "      <td>sample</td>\n",
       "      <td>19.059118</td>\n",
       "      <td>0.014485</td>\n",
       "      <td>15.543139</td>\n",
       "      <td>0.012451</td>\n",
       "      <td>38.809653</td>\n",
       "      <td>0.034501</td>\n",
       "      <td>0.815514</td>\n",
       "      <td>0.000183</td>\n",
       "      <td>2.036254</td>\n",
       "      <td>0.000907</td>\n",
       "      <td>1.226210</td>\n",
       "      <td>0.000269</td>\n",
       "      <td>2.496894</td>\n",
       "      <td>0.001019</td>\n",
       "    </tr>\n",
       "    <tr>\n",
       "      <th>20</th>\n",
       "      <td>my_smpl_020</td>\n",
       "      <td>sample</td>\n",
       "      <td>19.033290</td>\n",
       "      <td>0.012925</td>\n",
       "      <td>15.569569</td>\n",
       "      <td>0.011086</td>\n",
       "      <td>40.212118</td>\n",
       "      <td>0.032607</td>\n",
       "      <td>0.818009</td>\n",
       "      <td>0.000207</td>\n",
       "      <td>2.112699</td>\n",
       "      <td>0.000700</td>\n",
       "      <td>1.222469</td>\n",
       "      <td>0.000301</td>\n",
       "      <td>2.582730</td>\n",
       "      <td>0.000840</td>\n",
       "    </tr>\n",
       "    <tr>\n",
       "      <th>22</th>\n",
       "      <td>my_smpl_022</td>\n",
       "      <td>sample</td>\n",
       "      <td>18.790026</td>\n",
       "      <td>0.013165</td>\n",
       "      <td>15.432380</td>\n",
       "      <td>0.010865</td>\n",
       "      <td>37.297235</td>\n",
       "      <td>0.029595</td>\n",
       "      <td>0.821303</td>\n",
       "      <td>0.000158</td>\n",
       "      <td>1.985046</td>\n",
       "      <td>0.000686</td>\n",
       "      <td>1.217570</td>\n",
       "      <td>0.000228</td>\n",
       "      <td>2.416889</td>\n",
       "      <td>0.000832</td>\n",
       "    </tr>\n",
       "    <tr>\n",
       "      <th>37</th>\n",
       "      <td>my_smpl_036</td>\n",
       "      <td>sample</td>\n",
       "      <td>18.969695</td>\n",
       "      <td>0.016421</td>\n",
       "      <td>15.534335</td>\n",
       "      <td>0.014478</td>\n",
       "      <td>39.377355</td>\n",
       "      <td>0.037762</td>\n",
       "      <td>0.818891</td>\n",
       "      <td>0.000135</td>\n",
       "      <td>2.075928</td>\n",
       "      <td>0.000619</td>\n",
       "      <td>1.221143</td>\n",
       "      <td>0.000198</td>\n",
       "      <td>2.534826</td>\n",
       "      <td>0.000834</td>\n",
       "    </tr>\n",
       "    <tr>\n",
       "      <th>19</th>\n",
       "      <td>my_smpl_019</td>\n",
       "      <td>sample</td>\n",
       "      <td>18.939306</td>\n",
       "      <td>0.013862</td>\n",
       "      <td>15.525549</td>\n",
       "      <td>0.011903</td>\n",
       "      <td>43.093425</td>\n",
       "      <td>0.031168</td>\n",
       "      <td>0.819744</td>\n",
       "      <td>0.000175</td>\n",
       "      <td>2.275322</td>\n",
       "      <td>0.000824</td>\n",
       "      <td>1.219882</td>\n",
       "      <td>0.000255</td>\n",
       "      <td>2.775649</td>\n",
       "      <td>0.001160</td>\n",
       "    </tr>\n",
       "  </tbody>\n",
       "</table>\n",
       "</div>"
      ],
      "text/plain": [
       "           name    type  206Pb_204Pb  206Pb_204Pb_err  207Pb_204Pb  \\\n",
       "14  my_smpl_014  sample    19.059118         0.014485    15.543139   \n",
       "20  my_smpl_020  sample    19.033290         0.012925    15.569569   \n",
       "22  my_smpl_022  sample    18.790026         0.013165    15.432380   \n",
       "37  my_smpl_036  sample    18.969695         0.016421    15.534335   \n",
       "19  my_smpl_019  sample    18.939306         0.013862    15.525549   \n",
       "\n",
       "    207Pb_204Pb_err  208Pb_204Pb  208Pb_204Pb_err  207Pb_206Pb  \\\n",
       "14         0.012451    38.809653         0.034501     0.815514   \n",
       "20         0.011086    40.212118         0.032607     0.818009   \n",
       "22         0.010865    37.297235         0.029595     0.821303   \n",
       "37         0.014478    39.377355         0.037762     0.818891   \n",
       "19         0.011903    43.093425         0.031168     0.819744   \n",
       "\n",
       "    207Pb_206Pb_err  208Pb_206Pb  208Pb_206Pb_err  206Pb_207Pb  \\\n",
       "14         0.000183     2.036254         0.000907     1.226210   \n",
       "20         0.000207     2.112699         0.000700     1.222469   \n",
       "22         0.000158     1.985046         0.000686     1.217570   \n",
       "37         0.000135     2.075928         0.000619     1.221143   \n",
       "19         0.000175     2.275322         0.000824     1.219882   \n",
       "\n",
       "    206Pb_207Pb_err  208Pb_207Pb  208Pb_207Pb_err  \n",
       "14         0.000269     2.496894         0.001019  \n",
       "20         0.000301     2.582730         0.000840  \n",
       "22         0.000228     2.416889         0.000832  \n",
       "37         0.000198     2.534826         0.000834  \n",
       "19         0.000255     2.775649         0.001160  "
      ]
     },
     "execution_count": 9,
     "metadata": {},
     "output_type": "execute_result"
    }
   ],
   "source": [
    "processor = DataProcessor(settings=settings, correction_reference_material=NIST610)\n",
    "output_df = processor.process(all_samples)\n",
    "output_df.sample(5)"
   ]
  },
  {
   "cell_type": "markdown",
   "metadata": {},
   "source": [
    "## Results"
   ]
  },
  {
   "cell_type": "markdown",
   "metadata": {},
   "source": [
    "The processed data is returned as a Pandas DataFrame, so we can now interpret to our heart's content. Let's plot it up:\n"
   ]
  },
  {
   "cell_type": "code",
   "execution_count": 7,
   "metadata": {},
   "outputs": [
    {
     "data": {
      "text/plain": [
       "Text(0, 0.5, '$\\\\mathregular{^{207}Pb/^{204}Pb}$')"
      ]
     },
     "execution_count": 7,
     "metadata": {},
     "output_type": "execute_result"
    },
    {
     "data": {
      "image/png": "[encoded data removed]",
      "text/plain": [
       "<Figure size 640x480 with 1 Axes>"
      ]
     },
     "metadata": {},
     "output_type": "display_data"
    }
   ],
   "source": [
    "import matplotlib.pyplot as plt\n",
    "\n",
    "samples = output_df[output_df[\"type\"] == \"sample\"]\n",
    "\n",
    "fig, ax = plt.subplots()\n",
    "ax.errorbar(\n",
    "    x=samples[\"206Pb_204Pb\"],\n",
    "    y=samples[\"207Pb_204Pb\"],\n",
    "    fmt=\".\",\n",
    "    xerr=samples[\"206Pb_204Pb_err\"],\n",
    "    yerr=samples[\"207Pb_204Pb_err\"],\n",
    "    ecolor=\"#ccc\",\n",
    ")\n",
    "ax.set_xlabel(r\"$\\mathregular{^{206}Pb/^{204}Pb}$\")\n",
    "ax.set_ylabel(r\"$\\mathregular{^{207}Pb/^{204}Pb}$\")"
   ]
  },
  {
   "cell_type": "markdown",
   "metadata": {},
   "source": [
    "or we can export to a CSV to use elsewhere:\n"
   ]
  },
  {
   "cell_type": "code",
   "execution_count": 8,
   "metadata": {},
   "outputs": [],
   "source": [
    "output_df.to_csv(\"example-data/results.csv\", index=False)"
   ]
  }
 ],
 "metadata": {
  "kernelspec": {
   "display_name": "icpmsprocess_docs",
   "language": "python",
   "name": "python3"
  },
  "language_info": {
   "codemirror_mode": {
    "name": "ipython",
    "version": 3
   },
   "file_extension": ".py",
   "mimetype": "text/x-python",
   "name": "python",
   "nbconvert_exporter": "python",
   "pygments_lexer": "ipython3",
   "version": "3.13.0"
  }
 },
 "nbformat": 4,
 "nbformat_minor": 2
}
